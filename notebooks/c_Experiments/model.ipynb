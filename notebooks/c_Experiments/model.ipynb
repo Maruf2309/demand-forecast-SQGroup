{
 "cells": [
  {
   "cell_type": "code",
   "execution_count": 1,
   "id": "5811e1f9",
   "metadata": {},
   "outputs": [],
   "source": [
    "import numpy as np\n",
    "import pandas as pd\n",
    "import seaborn as sns"
   ]
  },
  {
   "cell_type": "code",
   "execution_count": 59,
   "id": "4e08fb63",
   "metadata": {},
   "outputs": [],
   "source": [
    "import mlflow\n",
    "from sklearn.neighbors import KNeighborsRegressor\n",
    "from sklearn.metrics import r2_score, mean_absolute_percentage_error"
   ]
  },
  {
   "cell_type": "code",
   "execution_count": 36,
   "id": "44d969eb",
   "metadata": {},
   "outputs": [],
   "source": [
    "data = pd.read_parquet('d:/demand-forecast-SQGroup/data/saleBYA_bestFeatures.parquet')\n",
    "df = data.copy()"
   ]
  },
  {
   "cell_type": "code",
   "execution_count": 37,
   "id": "2535a645",
   "metadata": {},
   "outputs": [
    {
     "data": {
      "text/html": [
       "<div>\n",
       "<style scoped>\n",
       "    .dataframe tbody tr th:only-of-type {\n",
       "        vertical-align: middle;\n",
       "    }\n",
       "\n",
       "    .dataframe tbody tr th {\n",
       "        vertical-align: top;\n",
       "    }\n",
       "\n",
       "    .dataframe thead th {\n",
       "        text-align: right;\n",
       "    }\n",
       "</style>\n",
       "<table border=\"1\" class=\"dataframe\">\n",
       "  <thead>\n",
       "    <tr style=\"text-align: right;\">\n",
       "      <th></th>\n",
       "      <th>date_month_start</th>\n",
       "      <th>net_price_window_7_std</th>\n",
       "      <th>net_price_lag_28</th>\n",
       "      <th>net_price_lag_7</th>\n",
       "      <th>net_price_lag_3</th>\n",
       "      <th>qtym_expanding_std</th>\n",
       "      <th>date_day_of_month</th>\n",
       "      <th>date_month</th>\n",
       "      <th>net_price</th>\n",
       "      <th>date</th>\n",
       "    </tr>\n",
       "  </thead>\n",
       "  <tbody>\n",
       "    <tr>\n",
       "      <th>0</th>\n",
       "      <td>0</td>\n",
       "      <td>5.136896e+06</td>\n",
       "      <td>26272324.0</td>\n",
       "      <td>1.914946e+05</td>\n",
       "      <td>2599070.50</td>\n",
       "      <td>181123.941914</td>\n",
       "      <td>8</td>\n",
       "      <td>8</td>\n",
       "      <td>5042942.0</td>\n",
       "      <td>2019-08-08</td>\n",
       "    </tr>\n",
       "    <tr>\n",
       "      <th>1</th>\n",
       "      <td>0</td>\n",
       "      <td>5.042066e+06</td>\n",
       "      <td>15105817.0</td>\n",
       "      <td>1.105840e+07</td>\n",
       "      <td>4009107.25</td>\n",
       "      <td>179949.733415</td>\n",
       "      <td>10</td>\n",
       "      <td>8</td>\n",
       "      <td>2932270.5</td>\n",
       "      <td>2019-08-10</td>\n",
       "    </tr>\n",
       "    <tr>\n",
       "      <th>2</th>\n",
       "      <td>0</td>\n",
       "      <td>4.480915e+06</td>\n",
       "      <td>5594980.5</td>\n",
       "      <td>5.000808e+06</td>\n",
       "      <td>4451132.00</td>\n",
       "      <td>176910.642883</td>\n",
       "      <td>12</td>\n",
       "      <td>8</td>\n",
       "      <td>1809937.5</td>\n",
       "      <td>2019-08-12</td>\n",
       "    </tr>\n",
       "    <tr>\n",
       "      <th>3</th>\n",
       "      <td>0</td>\n",
       "      <td>4.958484e+06</td>\n",
       "      <td>9242950.0</td>\n",
       "      <td>2.071218e+04</td>\n",
       "      <td>5042942.00</td>\n",
       "      <td>182988.967644</td>\n",
       "      <td>13</td>\n",
       "      <td>8</td>\n",
       "      <td>3067519.0</td>\n",
       "      <td>2019-08-13</td>\n",
       "    </tr>\n",
       "    <tr>\n",
       "      <th>4</th>\n",
       "      <td>0</td>\n",
       "      <td>5.091923e+06</td>\n",
       "      <td>9014580.0</td>\n",
       "      <td>2.599070e+06</td>\n",
       "      <td>2932270.50</td>\n",
       "      <td>182449.881234</td>\n",
       "      <td>14</td>\n",
       "      <td>8</td>\n",
       "      <td>5123492.0</td>\n",
       "      <td>2019-08-14</td>\n",
       "    </tr>\n",
       "  </tbody>\n",
       "</table>\n",
       "</div>"
      ],
      "text/plain": [
       "   date_month_start  net_price_window_7_std  net_price_lag_28  \\\n",
       "0                 0            5.136896e+06        26272324.0   \n",
       "1                 0            5.042066e+06        15105817.0   \n",
       "2                 0            4.480915e+06         5594980.5   \n",
       "3                 0            4.958484e+06         9242950.0   \n",
       "4                 0            5.091923e+06         9014580.0   \n",
       "\n",
       "   net_price_lag_7  net_price_lag_3  qtym_expanding_std  date_day_of_month  \\\n",
       "0     1.914946e+05       2599070.50       181123.941914                  8   \n",
       "1     1.105840e+07       4009107.25       179949.733415                 10   \n",
       "2     5.000808e+06       4451132.00       176910.642883                 12   \n",
       "3     2.071218e+04       5042942.00       182988.967644                 13   \n",
       "4     2.599070e+06       2932270.50       182449.881234                 14   \n",
       "\n",
       "   date_month  net_price       date  \n",
       "0           8  5042942.0 2019-08-08  \n",
       "1           8  2932270.5 2019-08-10  \n",
       "2           8  1809937.5 2019-08-12  \n",
       "3           8  3067519.0 2019-08-13  \n",
       "4           8  5123492.0 2019-08-14  "
      ]
     },
     "execution_count": 37,
     "metadata": {},
     "output_type": "execute_result"
    }
   ],
   "source": [
    "df.head()"
   ]
  },
  {
   "cell_type": "code",
   "execution_count": null,
   "id": "52512e45",
   "metadata": {},
   "outputs": [],
   "source": []
  },
  {
   "cell_type": "code",
   "execution_count": 38,
   "id": "d81e63cb",
   "metadata": {},
   "outputs": [],
   "source": [
    "folds = np.load('d:/demand-forecast-SQGroup/data/folds.npz')"
   ]
  },
  {
   "cell_type": "code",
   "execution_count": 39,
   "id": "76517c77",
   "metadata": {},
   "outputs": [],
   "source": [
    "train = df.loc[folds['train_2']]\n",
    "test = df.loc[folds['test_2']]"
   ]
  },
  {
   "cell_type": "code",
   "execution_count": 40,
   "id": "3bbe8ccd",
   "metadata": {},
   "outputs": [
    {
     "data": {
      "text/plain": [
       "(841, 10)"
      ]
     },
     "execution_count": 40,
     "metadata": {},
     "output_type": "execute_result"
    }
   ],
   "source": [
    "train.shape"
   ]
  },
  {
   "cell_type": "code",
   "execution_count": 41,
   "id": "4dbd4b04",
   "metadata": {},
   "outputs": [
    {
     "data": {
      "text/plain": [
       "(280, 10)"
      ]
     },
     "execution_count": 41,
     "metadata": {},
     "output_type": "execute_result"
    }
   ],
   "source": [
    "test.shape"
   ]
  },
  {
   "cell_type": "code",
   "execution_count": 42,
   "id": "d030d379",
   "metadata": {},
   "outputs": [],
   "source": [
    "X = train.drop(columns=['date', 'net_price'])\n",
    "y = train['net_price']"
   ]
  },
  {
   "cell_type": "code",
   "execution_count": 32,
   "id": "7c52ad77",
   "metadata": {},
   "outputs": [],
   "source": [
    "Xt = test.drop(columns=['date', 'net_price'])\n",
    "yt = test['net_price']"
   ]
  },
  {
   "cell_type": "code",
   "execution_count": 45,
   "id": "35a11c46",
   "metadata": {},
   "outputs": [
    {
     "data": {
      "text/html": [
       "<div>\n",
       "<style scoped>\n",
       "    .dataframe tbody tr th:only-of-type {\n",
       "        vertical-align: middle;\n",
       "    }\n",
       "\n",
       "    .dataframe tbody tr th {\n",
       "        vertical-align: top;\n",
       "    }\n",
       "\n",
       "    .dataframe thead th {\n",
       "        text-align: right;\n",
       "    }\n",
       "</style>\n",
       "<table border=\"1\" class=\"dataframe\">\n",
       "  <thead>\n",
       "    <tr style=\"text-align: right;\">\n",
       "      <th></th>\n",
       "      <th>date_month_start</th>\n",
       "      <th>net_price_window_7_std</th>\n",
       "      <th>net_price_lag_28</th>\n",
       "      <th>net_price_lag_7</th>\n",
       "      <th>net_price_lag_3</th>\n",
       "      <th>qtym_expanding_std</th>\n",
       "      <th>date_day_of_month</th>\n",
       "      <th>date_month</th>\n",
       "    </tr>\n",
       "  </thead>\n",
       "  <tbody>\n",
       "    <tr>\n",
       "      <th>0</th>\n",
       "      <td>0</td>\n",
       "      <td>5.136896e+06</td>\n",
       "      <td>2.627232e+07</td>\n",
       "      <td>1.914946e+05</td>\n",
       "      <td>2599070.50</td>\n",
       "      <td>181123.941914</td>\n",
       "      <td>8</td>\n",
       "      <td>8</td>\n",
       "    </tr>\n",
       "    <tr>\n",
       "      <th>1</th>\n",
       "      <td>0</td>\n",
       "      <td>5.042066e+06</td>\n",
       "      <td>1.510582e+07</td>\n",
       "      <td>1.105840e+07</td>\n",
       "      <td>4009107.25</td>\n",
       "      <td>179949.733415</td>\n",
       "      <td>10</td>\n",
       "      <td>8</td>\n",
       "    </tr>\n",
       "    <tr>\n",
       "      <th>2</th>\n",
       "      <td>0</td>\n",
       "      <td>4.480915e+06</td>\n",
       "      <td>5.594980e+06</td>\n",
       "      <td>5.000808e+06</td>\n",
       "      <td>4451132.00</td>\n",
       "      <td>176910.642883</td>\n",
       "      <td>12</td>\n",
       "      <td>8</td>\n",
       "    </tr>\n",
       "    <tr>\n",
       "      <th>3</th>\n",
       "      <td>0</td>\n",
       "      <td>4.958484e+06</td>\n",
       "      <td>9.242950e+06</td>\n",
       "      <td>2.071218e+04</td>\n",
       "      <td>5042942.00</td>\n",
       "      <td>182988.967644</td>\n",
       "      <td>13</td>\n",
       "      <td>8</td>\n",
       "    </tr>\n",
       "    <tr>\n",
       "      <th>4</th>\n",
       "      <td>0</td>\n",
       "      <td>5.091923e+06</td>\n",
       "      <td>9.014580e+06</td>\n",
       "      <td>2.599070e+06</td>\n",
       "      <td>2932270.50</td>\n",
       "      <td>182449.881234</td>\n",
       "      <td>14</td>\n",
       "      <td>8</td>\n",
       "    </tr>\n",
       "    <tr>\n",
       "      <th>...</th>\n",
       "      <td>...</td>\n",
       "      <td>...</td>\n",
       "      <td>...</td>\n",
       "      <td>...</td>\n",
       "      <td>...</td>\n",
       "      <td>...</td>\n",
       "      <td>...</td>\n",
       "      <td>...</td>\n",
       "    </tr>\n",
       "    <tr>\n",
       "      <th>836</th>\n",
       "      <td>0</td>\n",
       "      <td>2.035232e+06</td>\n",
       "      <td>4.122544e+06</td>\n",
       "      <td>3.239888e+04</td>\n",
       "      <td>4586322.50</td>\n",
       "      <td>127288.451741</td>\n",
       "      <td>3</td>\n",
       "      <td>7</td>\n",
       "    </tr>\n",
       "    <tr>\n",
       "      <th>837</th>\n",
       "      <td>0</td>\n",
       "      <td>2.093357e+06</td>\n",
       "      <td>1.410594e+07</td>\n",
       "      <td>2.700934e+06</td>\n",
       "      <td>5069513.50</td>\n",
       "      <td>127236.588362</td>\n",
       "      <td>4</td>\n",
       "      <td>7</td>\n",
       "    </tr>\n",
       "    <tr>\n",
       "      <th>838</th>\n",
       "      <td>0</td>\n",
       "      <td>2.062016e+06</td>\n",
       "      <td>4.366118e+06</td>\n",
       "      <td>3.965883e+06</td>\n",
       "      <td>16610658.00</td>\n",
       "      <td>127163.299990</td>\n",
       "      <td>5</td>\n",
       "      <td>7</td>\n",
       "    </tr>\n",
       "    <tr>\n",
       "      <th>839</th>\n",
       "      <td>0</td>\n",
       "      <td>1.852521e+06</td>\n",
       "      <td>4.973830e+06</td>\n",
       "      <td>5.084555e+06</td>\n",
       "      <td>5036285.50</td>\n",
       "      <td>127090.038666</td>\n",
       "      <td>6</td>\n",
       "      <td>7</td>\n",
       "    </tr>\n",
       "    <tr>\n",
       "      <th>840</th>\n",
       "      <td>0</td>\n",
       "      <td>1.885852e+06</td>\n",
       "      <td>2.584475e+04</td>\n",
       "      <td>4.586322e+06</td>\n",
       "      <td>5494030.00</td>\n",
       "      <td>127017.408386</td>\n",
       "      <td>7</td>\n",
       "      <td>7</td>\n",
       "    </tr>\n",
       "  </tbody>\n",
       "</table>\n",
       "<p>841 rows × 8 columns</p>\n",
       "</div>"
      ],
      "text/plain": [
       "     date_month_start  net_price_window_7_std  net_price_lag_28  \\\n",
       "0                   0            5.136896e+06      2.627232e+07   \n",
       "1                   0            5.042066e+06      1.510582e+07   \n",
       "2                   0            4.480915e+06      5.594980e+06   \n",
       "3                   0            4.958484e+06      9.242950e+06   \n",
       "4                   0            5.091923e+06      9.014580e+06   \n",
       "..                ...                     ...               ...   \n",
       "836                 0            2.035232e+06      4.122544e+06   \n",
       "837                 0            2.093357e+06      1.410594e+07   \n",
       "838                 0            2.062016e+06      4.366118e+06   \n",
       "839                 0            1.852521e+06      4.973830e+06   \n",
       "840                 0            1.885852e+06      2.584475e+04   \n",
       "\n",
       "     net_price_lag_7  net_price_lag_3  qtym_expanding_std  date_day_of_month  \\\n",
       "0       1.914946e+05       2599070.50       181123.941914                  8   \n",
       "1       1.105840e+07       4009107.25       179949.733415                 10   \n",
       "2       5.000808e+06       4451132.00       176910.642883                 12   \n",
       "3       2.071218e+04       5042942.00       182988.967644                 13   \n",
       "4       2.599070e+06       2932270.50       182449.881234                 14   \n",
       "..               ...              ...                 ...                ...   \n",
       "836     3.239888e+04       4586322.50       127288.451741                  3   \n",
       "837     2.700934e+06       5069513.50       127236.588362                  4   \n",
       "838     3.965883e+06      16610658.00       127163.299990                  5   \n",
       "839     5.084555e+06       5036285.50       127090.038666                  6   \n",
       "840     4.586322e+06       5494030.00       127017.408386                  7   \n",
       "\n",
       "     date_month  \n",
       "0             8  \n",
       "1             8  \n",
       "2             8  \n",
       "3             8  \n",
       "4             8  \n",
       "..          ...  \n",
       "836           7  \n",
       "837           7  \n",
       "838           7  \n",
       "839           7  \n",
       "840           7  \n",
       "\n",
       "[841 rows x 8 columns]"
      ]
     },
     "execution_count": 45,
     "metadata": {},
     "output_type": "execute_result"
    }
   ],
   "source": [
    "X"
   ]
  },
  {
   "cell_type": "markdown",
   "id": "9ee507b1",
   "metadata": {},
   "source": [
    "<center><b> Experiments </b></center>"
   ]
  },
  {
   "cell_type": "code",
   "execution_count": 4,
   "id": "33631bc0",
   "metadata": {},
   "outputs": [
    {
     "data": {
      "text/plain": [
       "'926698075080674526'"
      ]
     },
     "execution_count": 4,
     "metadata": {},
     "output_type": "execute_result"
    }
   ],
   "source": [
    "# mlflow.create_experiment('Net Price Forecasting')"
   ]
  },
  {
   "cell_type": "code",
   "execution_count": 62,
   "id": "62bf1733",
   "metadata": {},
   "outputs": [],
   "source": [
    "mlflow.set_experiment('Net Price Forecasting')\n",
    "with mlflow.start_run():\n",
    "    model = KNeighborsRegressor(n_neighbors=9, weights='distance', metric='euclidean')\n",
    "    model.fit(X, y)\n",
    "\n",
    "\n",
    "    ### log params\n",
    "    mlflow.log_params(dict(n_neighbors=9, weights='distance', metric='euclidean'))\n",
    "    \n",
    "    ### log metrics\n",
    "    mlflow.log_metrics(\n",
    "        {\n",
    "            'r2': r2_score(model.predict(Xt), yt),\n",
    "            'mse': mean_absolute_percentage_error(model.predict(Xt), yt)\n",
    "        }\n",
    "    )\n",
    "    \n",
    "    ### log model"
   ]
  },
  {
   "cell_type": "code",
   "execution_count": null,
   "id": "dabd3fa3",
   "metadata": {},
   "outputs": [],
   "source": []
  },
  {
   "cell_type": "code",
   "execution_count": null,
   "id": "0d195ab0",
   "metadata": {},
   "outputs": [],
   "source": []
  },
  {
   "cell_type": "code",
   "execution_count": null,
   "id": "cfca2e8c",
   "metadata": {},
   "outputs": [],
   "source": []
  },
  {
   "cell_type": "code",
   "execution_count": null,
   "id": "596d021d",
   "metadata": {},
   "outputs": [],
   "source": []
  },
  {
   "cell_type": "code",
   "execution_count": null,
   "id": "c412b8de",
   "metadata": {},
   "outputs": [],
   "source": []
  }
 ],
 "metadata": {
  "kernelspec": {
   "display_name": "Python 3 (ipykernel)",
   "language": "python",
   "name": "python3"
  },
  "language_info": {
   "codemirror_mode": {
    "name": "ipython",
    "version": 3
   },
   "file_extension": ".py",
   "mimetype": "text/x-python",
   "name": "python",
   "nbconvert_exporter": "python",
   "pygments_lexer": "ipython3",
   "version": "3.10.6"
  }
 },
 "nbformat": 4,
 "nbformat_minor": 5
}
